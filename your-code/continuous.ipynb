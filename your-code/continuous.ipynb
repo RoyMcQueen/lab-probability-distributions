{
 "cells": [
  {
   "cell_type": "markdown",
   "metadata": {},
   "source": [
    "# Before your start:\n",
    "\n",
    "    Read the README.md file\n",
    "    Comment as much as you can and use the resources (README.md file)\n",
    "    Happy learning!"
   ]
  },
  {
   "cell_type": "markdown",
   "metadata": {},
   "source": [
    "In this exercise, we  will generate random numbers from the continuous disributions we learned in the lesson. There are two ways to generate random numbers:\n",
    "\n",
    "1. Using the numpy library \n",
    "1. using the Scipy library \n",
    "\n",
    "Use either or both of the lbraries in this exercise."
   ]
  },
  {
   "cell_type": "markdown",
   "metadata": {},
   "source": [
    "## Uniform Distribution\n",
    "\n",
    "To generate uniform random numbers between any two given values using scipy, we can either use the following code or the code that we have\n",
    "discussed in class:"
   ]
  },
  {
   "cell_type": "code",
   "execution_count": 103,
   "metadata": {},
   "outputs": [
    {
     "name": "stdout",
     "output_type": "stream",
     "text": [
      "[2.10495308 2.2901659  2.95911132 2.20748105 2.47520888 2.01031241\n",
      " 2.97893282 2.73108659 2.33125158 2.49244655]\n"
     ]
    }
   ],
   "source": [
    "import numpy as np\n",
    "\n",
    "from scipy.stats import uniform\n",
    "\n",
    "x = uniform.rvs(size=10)\n",
    "\n",
    "a = 2\n",
    "b = 3\n",
    "\n",
    "randoms  = a + (b-a)*x\n",
    "print(randoms)"
   ]
  },
  {
   "cell_type": "markdown",
   "metadata": {},
   "source": [
    "**Your task:**\n",
    "\n",
    "1. Based on the code above, write a function that generates uniformly distributed random numbers. There are several requirements for your function:\n",
    "    * It should accept 3 parameters: \n",
    "        * `bottom` - the lower boundary of the generated numbers\n",
    "        * `ceiling` - the upper boundary of the generated numbers\n",
    "        * `count` - how many numbers to generate\n",
    "    * It should return an array of uniformly distributed random numbers\n",
    "\n",
    "1. Call your function with 2 sets of params below:\n",
    "    * bottom=10, ceiling=15, count=100\n",
    "    * bottom=10, ceiling=60, count=1,000\n",
    "\n",
    "1. Plot the uniform distributions generated above using histograms, where x axis is the value and y axis is the count. Let the histogram's number of bins be 10.\n",
    "\n",
    "Your output should look like below:\n",
    "\n",
    "![uniform distribution](ud.png)"
   ]
  },
  {
   "cell_type": "code",
   "execution_count": 104,
   "metadata": {},
   "outputs": [],
   "source": [
    "def uniform_dist(bottom,ceiling,count):\n",
    "\n",
    "    x = uniform.rvs(size=count)\n",
    "\n",
    "    return bottom + (ceiling-bottom)*x"
   ]
  },
  {
   "cell_type": "code",
   "execution_count": null,
   "metadata": {},
   "outputs": [],
   "source": [
    "uniform_dist(10,15,100)"
   ]
  },
  {
   "cell_type": "code",
   "execution_count": null,
   "metadata": {},
   "outputs": [],
   "source": [
    "uniform_dist(10,60,1000)"
   ]
  },
  {
   "cell_type": "code",
   "execution_count": 107,
   "metadata": {},
   "outputs": [
    {
     "data": {
      "image/png": "[encoded data removed]",
      "text/plain": [
       "<Figure size 432x288 with 2 Axes>"
      ]
     },
     "metadata": {
      "needs_background": "light"
     },
     "output_type": "display_data"
    }
   ],
   "source": [
    "import matplotlib.pyplot as plt\n",
    "import seaborn as sns\n",
    "\n",
    "fig, axes = plt.subplots(1, 2, sharey = True)\n",
    "\n",
    "sns.histplot(uniform_dist(10,15,100), ax = axes[0], bins = 10)\n",
    "\n",
    "sns.histplot(uniform_dist(10,15,1000), ax = axes[1], bins = 10)\n",
    "\n",
    "plt.show()\n"
   ]
  },
  {
   "cell_type": "markdown",
   "metadata": {},
   "source": [
    "How are the two distributions different?"
   ]
  },
  {
   "cell_type": "code",
   "execution_count": 108,
   "metadata": {},
   "outputs": [],
   "source": [
    "# your answer here:  because the number of events is different, on the one with 1000 the values will be closer to each other\n",
    "\n"
   ]
  },
  {
   "cell_type": "markdown",
   "metadata": {},
   "source": [
    "## Normal Distribution\n",
    "\n",
    "1. In the same way in the Uniform Distribution challenge, write a function that generates normally distributed random numbers.\n",
    "1. Generate 1,000 normally distributed numbers with the average of 10 and standard deviation of 1\n",
    "1. Generate 1,000 normally distributed numbers with the average of 10 and standard deviation of 50\n",
    "2. Plot the distributions of the data generated.\n",
    "\n",
    "Expected output:\n",
    "\n",
    "![normal distribution](nd.png)"
   ]
  },
  {
   "cell_type": "code",
   "execution_count": 123,
   "metadata": {},
   "outputs": [],
   "source": [
    "import random\n",
    "\n",
    "def normal_dist(mu,sigma,size):\n",
    "\n",
    "    return mu + sigma * np.random.randn(size)\n"
   ]
  },
  {
   "cell_type": "code",
   "execution_count": null,
   "metadata": {},
   "outputs": [],
   "source": [
    "normal_dist(10,1,1000)"
   ]
  },
  {
   "cell_type": "code",
   "execution_count": null,
   "metadata": {},
   "outputs": [],
   "source": [
    "normal_dist(10,50,1000)"
   ]
  },
  {
   "cell_type": "code",
   "execution_count": 129,
   "metadata": {},
   "outputs": [
    {
     "data": {
      "image/png": "[encoded data removed]",
      "text/plain": [
       "<Figure size 432x288 with 2 Axes>"
      ]
     },
     "metadata": {
      "needs_background": "light"
     },
     "output_type": "display_data"
    }
   ],
   "source": [
    "fig, axes = plt.subplots(1, 2, sharey = True)\n",
    "\n",
    "sns.histplot(normal_dist(10,1,1000), ax = axes[0], bins = 50)\n",
    "\n",
    "sns.histplot(normal_dist(10,50,1000), ax = axes[1], bins = 50)\n",
    "\n",
    "plt.show()"
   ]
  },
  {
   "cell_type": "markdown",
   "metadata": {},
   "source": [
    "How are the two distributions different?"
   ]
  },
  {
   "cell_type": "code",
   "execution_count": 130,
   "metadata": {},
   "outputs": [],
   "source": [
    "# The distribution with the largest standard deviation has a lot more values spread throughout the x axis \n",
    "# (as it should, in accordance to its std dev being 50)"
   ]
  },
  {
   "cell_type": "markdown",
   "metadata": {},
   "source": [
    "## Normal Distribution of Real Data\n",
    "\n",
    "In this challenge we are going to take a look the real data. We will use vehicles.csv file for this exercise"
   ]
  },
  {
   "cell_type": "markdown",
   "metadata": {},
   "source": [
    "First import vehicles.csv.\n",
    "Then plot the histograms for the following variables:\n",
    "\n",
    "1. Fuel Barrels/Year"
   ]
  },
  {
   "cell_type": "code",
   "execution_count": 135,
   "metadata": {},
   "outputs": [
    {
     "data": {
      "image/png": "[encoded data removed]",
      "text/plain": [
       "<Figure size 432x288 with 1 Axes>"
      ]
     },
     "metadata": {
      "needs_background": "light"
     },
     "output_type": "display_data"
    }
   ],
   "source": [
    "import pandas as pd\n",
    "vehicles = pd.read_csv('vehicles.csv')\n",
    "\n",
    "sns.histplot(vehicles['Fuel Barrels/Year'])\n",
    "plt.show()"
   ]
  },
  {
   "cell_type": "markdown",
   "metadata": {},
   "source": [
    "2. CO2 Emission Grams/Mile "
   ]
  },
  {
   "cell_type": "code",
   "execution_count": 136,
   "metadata": {},
   "outputs": [
    {
     "data": {
      "image/png": "[encoded data removed]",
      "text/plain": [
       "<Figure size 432x288 with 1 Axes>"
      ]
     },
     "metadata": {
      "needs_background": "light"
     },
     "output_type": "display_data"
    }
   ],
   "source": [
    "sns.histplot(vehicles['CO2 Emission Grams/Mile'])\n",
    "plt.show()"
   ]
  },
  {
   "cell_type": "markdown",
   "metadata": {},
   "source": [
    "3. Combined MPG"
   ]
  },
  {
   "cell_type": "code",
   "execution_count": 137,
   "metadata": {},
   "outputs": [
    {
     "data": {
      "image/png": "[encoded data removed]",
      "text/plain": [
       "<Figure size 432x288 with 1 Axes>"
      ]
     },
     "metadata": {
      "needs_background": "light"
     },
     "output_type": "display_data"
    }
   ],
   "source": [
    "sns.histplot(vehicles['Combined MPG'])\n",
    "plt.show()"
   ]
  },
  {
   "cell_type": "markdown",
   "metadata": {},
   "source": [
    "Which one(s) of the variables are nearly normally distributed? How do you know?"
   ]
  },
  {
   "cell_type": "code",
   "execution_count": 114,
   "metadata": {},
   "outputs": [],
   "source": [
    "# don't know check later"
   ]
  },
  {
   "cell_type": "markdown",
   "metadata": {},
   "source": [
    "## Exponential Distribution"
   ]
  },
  {
   "cell_type": "markdown",
   "metadata": {},
   "source": [
    "1. Using `numpy.random.exponential`, create a function that returns a list of numbers exponentially distributed with the mean of 10. \n",
    "\n",
    "1. Use the function to generate two number sequences with a mean of 1 and 100 and a size of 1000.\n",
    "\n",
    "1. Plot the distributions as histograms with the number of bins as 100.\n",
    "\n",
    "Your output should look like below:\n",
    "\n",
    "![exponential distribution](ed.png)"
   ]
  },
  {
   "cell_type": "code",
   "execution_count": 143,
   "metadata": {},
   "outputs": [],
   "source": [
    "def exponential_dist(mu, size):\n",
    "\n",
    "    x = np.random.exponential(mu,size)\n",
    "    return x\n",
    "\n"
   ]
  },
  {
   "cell_type": "code",
   "execution_count": 144,
   "metadata": {},
   "outputs": [
    {
     "data": {
      "text/plain": [
       "array([8.07393978e-01, 1.83393447e+00, 1.48233752e-01, 9.66594831e-02,\n",
       "       2.24925013e+00, 2.21421165e+00, 3.56587568e-01, 2.05755215e-02,\n",
       "       1.93361299e+00, 6.17219629e-01, 1.03777384e+00, 2.45401816e-01,\n",
       "       2.29489508e-01, 2.32593460e+00, 9.99244978e-01, 2.20648043e+00,\n",
       "       2.14126687e-01, 1.11777592e+00, 2.19830989e+00, 1.34617750e+00,\n",
       "       7.32030813e-01, 1.83422246e-01, 5.44625372e-01, 5.27226430e-02,\n",
       "       1.03342832e+00, 1.85035010e+00, 3.16919026e-01, 1.92256265e-01,\n",
       "       5.20585341e-01, 2.63455901e+00, 4.78407518e-02, 6.81733201e-01,\n",
       "       1.98849729e+00, 2.19155212e+00, 7.37508174e-01, 1.88467351e+00,\n",
       "       7.23505926e-01, 1.04066190e+00, 1.03099302e+00, 2.11663402e+00,\n",
       "       2.14797190e-01, 7.42887384e-01, 1.06204060e+00, 1.13919859e+00,\n",
       "       5.48131310e-02, 1.77467481e-01, 8.43483054e-02, 1.92007866e+00,\n",
       "       1.10203332e+00, 5.38238048e-01, 1.13673910e+00, 1.31245673e+00,\n",
       "       2.01314558e+00, 2.60349221e-02, 6.00295112e-01, 2.13889149e-01,\n",
       "       7.66947612e-01, 3.31167785e-01, 2.96734288e+00, 2.18957677e+00,\n",
       "       2.90721134e+00, 4.36339282e-01, 1.41137290e+00, 1.36753563e+00,\n",
       "       1.02393418e+00, 1.62063918e+00, 2.21398820e+00, 1.96155253e+00,\n",
       "       1.41110597e-01, 8.72685114e-01, 1.87958539e+00, 2.34874347e-01,\n",
       "       8.02233536e-02, 2.27251268e-01, 5.40540563e-02, 1.34018166e+00,\n",
       "       4.75792615e+00, 2.67132665e-01, 1.23965118e-01, 1.11883925e-02,\n",
       "       6.28558380e-01, 5.10960169e-01, 2.63918459e-01, 4.85054405e+00,\n",
       "       8.77185126e-02, 6.48165192e-01, 5.09737566e-01, 6.60953745e-02,\n",
       "       2.97945997e+00, 2.72639855e+00, 9.03969933e-01, 2.36932652e-01,\n",
       "       5.76511934e-02, 6.37985114e-01, 2.92965990e+00, 6.18338987e+00,\n",
       "       5.79499257e-01, 3.04010855e-01, 1.94272256e+00, 8.00654225e-01,\n",
       "       9.88863425e-01, 3.57460442e-02, 1.79139654e+00, 1.29677008e-02,\n",
       "       1.35485433e+00, 6.13905728e-01, 2.10774760e-01, 4.68879106e-02,\n",
       "       6.00340765e-01, 3.03526141e+00, 8.76032014e-01, 4.79232908e-01,\n",
       "       5.17812508e-01, 2.28234269e+00, 2.81789967e-01, 2.10501171e+00,\n",
       "       3.02561617e-01, 5.76214419e-01, 1.43602497e-02, 6.83570203e-01,\n",
       "       2.18691659e+00, 1.60847865e+00, 1.63041646e+00, 2.32000520e-01,\n",
       "       1.80685891e+00, 3.97693077e-01, 7.28224945e-01, 5.55339832e-01,\n",
       "       1.09619599e+00, 2.10264019e+00, 2.39531358e-01, 5.08385827e-02,\n",
       "       1.96336539e-01, 3.09896220e-01, 7.20384016e-01, 3.22299383e-01,\n",
       "       3.05139951e-01, 4.09935703e-01, 1.20103487e-01, 1.75366879e-02,\n",
       "       5.75124908e-01, 3.28028796e-01, 4.66637174e+00, 1.79467535e+00,\n",
       "       7.60799573e-01, 3.34563884e+00, 3.40883295e-01, 3.12617929e+00,\n",
       "       2.74054546e-01, 2.23289555e-01, 3.39391085e-01, 2.29025365e-01,\n",
       "       1.37569889e+00, 1.08987160e+00, 3.85294238e-01, 5.68200783e-01,\n",
       "       1.52624838e+00, 9.27135461e-01, 1.21738810e+00, 8.58086567e-02,\n",
       "       5.66166173e-01, 8.63473382e-01, 1.29965240e+00, 2.59348678e-01,\n",
       "       6.00134856e-02, 6.00353320e-01, 1.66435394e-02, 5.43367764e-01,\n",
       "       1.10361430e+00, 9.25148063e-01, 5.21638334e-01, 8.10604971e-01,\n",
       "       2.23970171e+00, 1.85933484e-01, 1.55392863e+00, 3.40694140e-01,\n",
       "       1.84445330e+00, 1.43751143e+00, 8.48228921e-01, 2.21308987e+00,\n",
       "       9.42153240e-02, 4.30190046e-01, 2.03072008e+00, 1.56270250e+00,\n",
       "       7.13456919e-01, 5.32540677e+00, 8.56946942e-01, 6.38039288e-01,\n",
       "       8.91770278e-01, 1.85523139e-01, 5.76030020e-02, 5.27678593e-01,\n",
       "       1.56382585e+00, 1.14791642e-01, 9.95668341e-01, 1.76442329e-01,\n",
       "       6.67562948e-01, 2.87363573e+00, 2.03526687e+00, 2.40123108e+00,\n",
       "       4.39051041e-01, 1.37532397e+00, 3.06966582e-01, 1.72684324e-01,\n",
       "       3.14895070e+00, 3.21295356e-01, 6.61054387e-02, 5.47871927e-01,\n",
       "       7.00981609e-01, 2.20650590e-01, 3.48731651e-01, 1.97317842e-01,\n",
       "       3.97109730e-01, 1.52848386e+00, 8.92453280e-02, 2.36218752e+00,\n",
       "       8.84191317e-01, 2.76722658e+00, 9.36708218e-02, 2.15286232e-01,\n",
       "       6.95359039e-02, 2.96990758e-01, 6.71705333e-01, 2.68699913e+00,\n",
       "       2.09815485e-01, 1.91357289e-01, 3.07805502e-01, 3.39973755e-03,\n",
       "       6.30648419e-01, 1.14367700e+00, 6.73497772e-01, 3.49177153e+00,\n",
       "       6.26025788e-02, 1.04590917e+00, 1.39257090e+00, 7.78614586e-02,\n",
       "       2.56337675e+00, 9.80290594e-01, 1.26212489e+00, 1.32325916e+00,\n",
       "       6.60951062e-01, 3.90924293e-01, 1.39644952e+00, 7.87213055e-01,\n",
       "       1.46628498e+00, 2.81997896e-02, 1.98404502e-01, 7.27714149e-02,\n",
       "       1.00618647e+00, 5.76862424e-01, 1.94837540e+00, 1.19066452e-02,\n",
       "       1.94105503e+00, 2.94015160e+00, 2.16565836e-01, 1.94099511e-01,\n",
       "       1.86617971e+00, 1.24857077e+00, 8.52009654e-01, 1.40822513e+00,\n",
       "       9.79794018e-01, 4.30413952e-01, 1.97820927e+00, 6.84752440e-01,\n",
       "       1.69922306e+00, 3.41207551e-01, 6.32919803e-01, 1.17675208e+00,\n",
       "       2.20744434e-01, 3.93642574e+00, 1.29869909e+00, 7.49713641e-01,\n",
       "       2.94287883e-02, 5.88720999e-01, 1.14187124e+00, 1.03690696e-01,\n",
       "       3.56115245e-01, 4.18622475e-01, 2.81647545e-01, 2.51369700e-01,\n",
       "       2.02573904e-01, 1.18202590e+00, 6.47041601e-01, 2.49399133e-01,\n",
       "       1.38615641e+00, 2.81501232e+00, 5.97656761e-02, 2.28334531e-01,\n",
       "       3.84597242e-01, 5.79576009e-03, 8.99709808e-01, 1.09810525e+00,\n",
       "       9.75336710e-02, 1.59446449e+00, 1.16102960e+00, 3.54525401e-01,\n",
       "       1.62230814e+00, 5.70011811e+00, 4.74568744e-01, 4.91825879e+00,\n",
       "       8.13414552e-01, 4.17467210e-01, 4.38766085e-01, 5.28853439e-02,\n",
       "       1.31960288e+00, 1.40736456e+00, 8.86174531e-01, 8.95250066e-01,\n",
       "       3.24241389e-01, 1.27795760e+00, 1.37398874e+00, 7.76212872e-01,\n",
       "       2.52289883e-02, 1.32521958e+00, 5.21588466e-01, 3.34848811e-01,\n",
       "       3.89377859e-01, 9.90965262e-02, 4.25854724e+00, 4.14552954e-01,\n",
       "       4.09757525e+00, 1.64692056e+00, 1.14724744e-01, 1.95848985e+00,\n",
       "       2.60406336e+00, 3.96298969e+00, 2.80960670e-01, 1.07401284e+00,\n",
       "       1.23504767e+00, 2.41360311e+00, 1.50219600e+00, 2.76402273e-01,\n",
       "       1.74754770e+00, 2.42586097e-01, 1.26814762e+00, 7.11833746e-01,\n",
       "       1.54005173e+00, 6.28058313e-01, 3.85324183e-01, 7.91689291e-01,\n",
       "       2.48244849e-01, 5.09261320e+00, 3.20022139e-01, 1.74748944e+00,\n",
       "       4.66924537e-01, 1.41784120e+00, 3.52000579e-01, 7.71096506e-01,\n",
       "       1.13657089e+00, 1.70112187e+00, 2.72638053e+00, 1.54589678e+00,\n",
       "       1.17636930e-01, 7.44007234e-02, 2.23711529e+00, 1.90861323e+00,\n",
       "       2.10114861e-01, 1.43091251e-01, 5.44181377e-01, 3.91236884e-02,\n",
       "       2.00115894e-01, 7.02100945e-01, 1.43546252e+00, 1.00354016e-01,\n",
       "       1.47862796e+00, 9.66973971e-01, 1.80959036e+00, 1.10029063e-01,\n",
       "       1.98367820e+00, 1.91397470e-01, 5.89688295e-01, 2.39122201e+00,\n",
       "       3.84256172e-01, 1.72387347e+00, 3.28428094e-01, 1.16439558e-01,\n",
       "       1.27315895e+00, 2.17708294e+00, 6.37710435e-01, 1.55354347e+00,\n",
       "       1.86159856e+00, 2.38496844e-01, 8.68412001e-01, 1.31932362e+00,\n",
       "       9.20804974e-01, 2.56614204e+00, 1.20959895e-01, 1.91579972e+00,\n",
       "       2.10128562e+00, 2.52968345e-01, 2.33524454e+00, 1.30887177e+00,\n",
       "       1.11895720e+00, 4.23322487e-01, 1.91681081e+00, 1.86396306e+00,\n",
       "       1.23250893e+00, 8.58923872e-01, 2.44468030e-01, 7.14514741e-01,\n",
       "       4.03897942e-01, 1.07541631e+00, 5.34455690e-03, 9.29778186e-01,\n",
       "       1.63869153e+00, 2.93325857e-02, 1.72389637e+00, 1.08062117e+00,\n",
       "       2.22194018e+00, 9.00845274e-01, 2.00862699e+00, 1.60363506e+00,\n",
       "       3.06484893e-01, 7.18288099e-01, 3.30201976e-02, 4.26727166e-01,\n",
       "       8.68062847e-01, 3.20493823e-01, 1.86583127e-01, 8.08863860e-01,\n",
       "       2.79786381e+00, 7.60585766e-01, 3.27774371e+00, 6.62632402e-01,\n",
       "       8.78311842e-01, 5.75512940e-01, 1.38867391e-01, 1.00028812e+00,\n",
       "       2.39269028e-02, 8.40298511e-01, 2.26194347e-01, 1.30227953e-01,\n",
       "       5.27460423e-01, 1.86321113e+00, 1.43878534e-01, 2.61820506e-01,\n",
       "       1.60623696e+00, 1.12476947e+00, 2.45780000e-01, 5.59539691e-01,\n",
       "       1.56097086e+00, 6.79220904e-01, 1.34368879e-01, 9.19950271e-01,\n",
       "       3.39297052e-02, 4.96758856e-01, 2.56177637e+00, 5.12402719e-02,\n",
       "       1.83263834e-01, 7.19144089e-01, 2.11120168e-01, 7.18496643e-01,\n",
       "       5.88350399e+00, 2.28033214e+00, 2.91174304e-01, 5.15013265e+00,\n",
       "       1.75156210e-01, 3.17674377e-01, 1.33100628e+00, 1.85490735e+00,\n",
       "       2.85510573e+00, 1.10700210e+00, 3.15601754e+00, 2.73792355e-01,\n",
       "       5.62486829e-01, 5.85282036e-01, 1.59749542e+00, 1.56893096e+00,\n",
       "       8.53477991e-01, 8.69474253e-01, 2.83010537e+00, 4.97801534e-01,\n",
       "       1.81345721e+00, 2.66405846e-02, 7.11516163e-01, 8.69932493e-01,\n",
       "       1.68092472e+00, 5.59822647e-01, 1.91574478e-01, 2.84146747e-01,\n",
       "       5.69710018e-01, 1.32529235e+00, 1.44330238e+00, 2.52480730e-01,\n",
       "       2.68236066e+00, 8.09800645e-01, 1.29468799e-01, 5.11935282e-02,\n",
       "       7.04423465e-01, 7.99536436e-02, 3.21081525e-01, 4.34290072e-01,\n",
       "       5.72121316e-01, 1.71884367e+00, 1.16043002e+00, 1.61068769e+00,\n",
       "       1.51169845e+00, 3.01002254e+00, 2.64200093e-01, 8.49789152e-01,\n",
       "       5.58659138e-01, 1.16190966e-02, 1.53665533e+00, 1.55622007e+00,\n",
       "       1.01614497e+00, 1.54389646e+00, 1.84585492e-01, 2.91367324e-01,\n",
       "       2.78461069e+00, 2.02497902e+00, 6.45077526e-01, 2.83445590e+00,\n",
       "       1.52762732e+00, 3.66060725e-01, 1.05827677e+00, 7.35922657e-01,\n",
       "       6.64117025e-01, 2.86404532e-01, 8.26001863e-01, 1.49452161e+00,\n",
       "       2.33131422e+00, 2.29149683e+00, 1.58931508e-01, 1.11581024e+00,\n",
       "       3.30320165e-03, 6.02911863e-01, 2.47555379e-01, 5.42009105e-02,\n",
       "       3.21771797e-01, 2.30112333e-01, 1.70703572e+00, 7.45266632e-01,\n",
       "       2.19043461e+00, 7.18687930e-03, 8.75890491e-01, 1.16448824e+00,\n",
       "       6.44908679e-01, 2.69654243e+00, 1.70218785e+00, 1.38667482e-01,\n",
       "       2.73230523e+00, 5.20401692e-02, 3.74694120e-01, 5.67735128e-02,\n",
       "       2.17010025e+00, 3.54388967e-02, 9.84809931e-02, 3.20520399e+00,\n",
       "       1.86754441e-01, 1.83200938e+00, 7.04463738e-01, 4.58496334e-01,\n",
       "       1.14112050e+00, 1.20759580e+00, 6.75892852e-01, 6.58970043e-01,\n",
       "       1.85539307e+00, 2.05910615e-01, 1.41549552e+00, 1.88603409e-01,\n",
       "       1.49390135e+00, 4.74920684e-01, 5.25974264e-01, 8.67445247e-02,\n",
       "       2.74882213e-01, 1.01721164e+00, 1.28838882e-01, 5.65994490e-01,\n",
       "       1.46027655e+00, 1.18872417e+00, 4.28155269e-01, 1.56236039e+00,\n",
       "       1.16630219e+00, 1.90784803e-01, 1.63865383e+00, 7.09130378e-01,\n",
       "       2.59119519e+00, 5.08684194e-01, 1.84319419e+00, 1.84355129e+00,\n",
       "       3.15993371e-01, 1.00614027e+00, 1.86889529e+00, 7.73129358e-01,\n",
       "       6.72674860e-02, 3.89576854e+00, 1.70379958e-01, 5.84080354e-01,\n",
       "       3.03946408e-01, 4.68853985e-01, 9.45153373e-01, 4.55735451e+00,\n",
       "       4.46910804e-01, 2.00232170e+00, 1.40326070e+00, 2.78695214e+00,\n",
       "       4.05615922e-01, 2.45452334e+00, 2.02590876e+00, 5.58693931e-01,\n",
       "       2.97584366e-01, 1.73147478e+00, 7.17911132e-01, 7.87831910e-01,\n",
       "       6.00788178e-01, 1.11828814e+00, 2.27804083e+00, 1.85082944e-01,\n",
       "       1.33955599e+00, 1.82893464e+00, 6.15100723e-01, 7.27349646e-01,\n",
       "       4.10859994e-01, 9.71354957e-01, 2.73742537e-01, 1.54149976e+00,\n",
       "       5.43717563e-02, 2.10934242e-01, 2.10459025e+00, 1.54429787e+00,\n",
       "       6.22017643e-01, 2.49507525e+00, 5.67866779e-01, 9.76997795e-01,\n",
       "       8.90203739e-02, 1.06340002e+00, 1.06089309e-01, 6.96140267e-01,\n",
       "       2.62066374e+00, 9.55570500e-01, 8.33761917e-01, 1.55608432e-02,\n",
       "       7.74793014e-01, 1.08788658e+00, 1.86455832e-01, 6.60245047e-01,\n",
       "       6.53685936e-01, 6.77219152e-01, 1.82052242e+00, 1.04347837e-01,\n",
       "       1.29706192e-01, 1.65621391e-01, 2.11290688e+00, 2.30316055e+00,\n",
       "       2.66225109e-01, 1.63179765e+00, 2.63169424e+00, 8.39785121e-02,\n",
       "       2.48427791e-01, 1.34610661e+00, 3.67546934e-01, 1.24240004e-01,\n",
       "       3.40345255e+00, 2.39937811e+00, 7.47829691e-01, 9.60902178e-01,\n",
       "       3.80202692e-01, 6.91326466e-01, 2.03867377e+00, 1.26908774e+00,\n",
       "       1.80783825e+00, 1.21737769e+00, 3.84838283e+00, 1.16110045e+00,\n",
       "       3.47825155e-01, 1.53175364e+00, 4.62576270e-01, 3.23716170e+00,\n",
       "       7.18566563e-01, 1.08097673e+00, 1.66566010e+00, 8.88086554e-01,\n",
       "       2.33659983e+00, 1.45892347e+00, 5.14034616e-02, 1.54039911e-01,\n",
       "       1.47932031e+00, 8.10910332e-01, 1.08030743e+00, 7.35765509e-01,\n",
       "       5.13915346e-01, 1.15078917e+00, 6.67843003e-01, 7.25989762e-01,\n",
       "       6.21850132e-01, 1.34796562e+00, 8.69044159e-01, 1.17391966e+00,\n",
       "       5.48316990e-02, 4.53365222e-01, 9.28575952e-01, 8.59839936e-01,\n",
       "       2.86283019e+00, 2.67770955e-01, 2.57304402e-01, 3.40051187e-01,\n",
       "       1.57512413e-01, 1.74825493e+00, 3.02021658e-01, 1.19041127e+00,\n",
       "       3.43033902e-01, 5.28924623e-01, 1.07910453e-01, 3.87073569e-01,\n",
       "       1.06630014e-01, 1.29115846e+00, 1.34476143e-01, 6.29354109e-01,\n",
       "       3.99809222e-01, 8.61884417e-01, 9.09111705e-01, 2.31836872e-01,\n",
       "       1.10611445e+00, 2.34620711e-01, 7.99964738e-01, 1.84720236e+00,\n",
       "       4.04645139e-01, 4.99815230e-01, 9.27167744e-01, 4.05791342e-01,\n",
       "       2.29575501e+00, 6.92176304e-01, 1.22154477e+00, 4.19465133e+00,\n",
       "       1.64809231e-01, 1.15465877e+00, 3.04296768e-01, 1.19255184e-01,\n",
       "       4.89602877e-02, 3.48689422e-01, 3.87217436e-01, 2.88485412e-01,\n",
       "       3.39415335e-02, 1.36294918e-01, 1.02658584e+00, 1.63805715e-01,\n",
       "       5.01438830e-01, 8.81322734e-01, 5.97378786e-01, 2.18028899e+00,\n",
       "       7.22448115e-01, 1.57955865e+00, 1.49431864e+00, 6.21361301e-02,\n",
       "       3.39980596e-02, 2.82781814e-01, 9.53475882e-01, 1.24132804e+00,\n",
       "       1.32602517e-01, 5.06553729e-01, 1.54690468e-01, 1.26054156e+00,\n",
       "       5.21280157e-01, 4.21605898e+00, 3.64432333e-01, 2.88727950e-01,\n",
       "       2.02871066e-01, 2.47454968e+00, 3.20721476e+00, 2.41688821e-01,\n",
       "       3.17791792e+00, 1.82649386e+00, 8.70133154e-02, 1.39685771e+00,\n",
       "       4.67614816e-01, 7.04146518e-01, 2.71878938e-01, 1.12573969e+00,\n",
       "       1.39687761e-01, 1.32885880e-01, 1.45969382e+00, 6.71309796e-01,\n",
       "       1.60068536e+00, 7.20787182e-01, 4.98513693e-02, 9.43865584e-01,\n",
       "       1.00082963e-01, 7.29891428e-01, 9.46215226e-01, 7.02319712e-01,\n",
       "       1.98362212e-01, 4.75490499e-01, 2.91491332e-01, 7.41558409e-02,\n",
       "       4.93687908e-01, 3.06301319e-01, 1.75102986e+00, 4.81139695e-01,\n",
       "       2.57726950e-01, 2.91900320e-01, 2.33793447e-01, 6.29215896e-01,\n",
       "       3.75622483e-01, 1.26456773e-01, 3.31424501e+00, 7.49451951e-01,\n",
       "       6.12962848e-01, 3.26099571e-01, 6.27356403e-01, 1.75028605e+00,\n",
       "       3.07577218e-01, 5.06717412e-02, 7.44234689e-02, 4.25362105e-01,\n",
       "       2.22094490e+00, 1.23756261e-01, 2.91573766e-01, 1.57084239e+00,\n",
       "       1.39756837e+00, 2.47173750e+00, 4.25824560e-01, 7.07112911e-01,\n",
       "       5.40133478e-02, 1.21653661e+00, 1.08608364e-01, 8.55767727e-01,\n",
       "       5.16552315e-01, 9.79966038e-02, 2.28122591e+00, 2.29461803e-02,\n",
       "       1.32327711e+00, 2.86026004e-01, 3.80020080e-01, 1.10000399e-01,\n",
       "       8.60138764e-01, 3.18756809e+00, 1.86363874e-01, 9.81850096e-01,\n",
       "       4.32932964e-01, 5.65610219e-01, 9.36332698e-01, 5.57559926e-01,\n",
       "       1.35062764e+00, 1.72005761e-01, 5.08534685e-01, 7.05258311e-01,\n",
       "       2.27446799e+00, 7.77779501e-01, 2.47501305e-01, 8.59790743e-01,\n",
       "       5.72061654e-01, 1.83045097e+00, 1.77728703e+00, 2.95662930e+00,\n",
       "       1.17586791e+00, 4.01076194e-01, 7.94950169e-01, 1.44942484e+00,\n",
       "       8.01116074e-01, 6.84837078e-01, 1.82364857e-01, 8.52412375e-01,\n",
       "       1.64749020e+00, 1.47476906e+00, 3.61469464e-01, 1.02932152e+00,\n",
       "       1.89110993e-01, 5.23565254e-01, 2.38328739e+00, 1.84542653e-02,\n",
       "       1.65916370e-01, 9.37788524e-02, 1.19953198e+00, 1.77562842e-01,\n",
       "       8.97459153e-01, 3.49380395e+00, 5.68409234e-01, 2.31436636e+00,\n",
       "       6.18820200e-01, 1.03428205e+00, 9.90264464e-01, 5.24029356e-01,\n",
       "       1.41041807e+00, 2.45041066e-01, 8.09270674e-01, 3.75529441e-01,\n",
       "       1.35662238e+00, 3.16674008e-01, 7.55973141e-01, 1.64605828e+00,\n",
       "       5.18116752e-01, 4.18740966e-02, 1.82508906e-01, 5.21379833e-01,\n",
       "       1.00411182e+00, 1.17602563e-01, 1.49123294e+00, 5.93151454e-01,\n",
       "       2.97906371e+00, 7.58281179e-01, 1.39360280e+00, 9.05728239e-01,\n",
       "       1.33615173e+00, 5.53655696e-01, 2.28120579e+00, 1.98143843e-01,\n",
       "       6.49994579e-01, 4.68746517e-01, 4.24148089e+00, 7.20410724e-02,\n",
       "       5.75200432e+00, 9.61611874e-02, 3.07855368e-01, 8.99560968e-01,\n",
       "       2.94046735e-01, 7.36983039e-01, 3.43941278e+00, 7.20470543e-02,\n",
       "       1.60313611e-01, 2.99784319e-01, 2.23800957e-01, 1.13228892e+00,\n",
       "       1.70333811e-01, 2.26992083e+00, 8.26599850e-02, 3.58587905e-02,\n",
       "       4.59055700e-01, 8.73053902e-01, 3.32808757e-01, 1.81491897e+00,\n",
       "       9.19668920e-01, 2.76153397e-01, 1.78468294e+00, 2.60494152e-01,\n",
       "       9.96612204e-01, 1.26839781e+00, 2.02935259e+00, 1.18036905e+00,\n",
       "       1.49243882e+00, 3.19837169e-01, 7.42212389e-01, 1.25617544e+00,\n",
       "       2.39310843e-01, 8.93810353e-01, 1.58006038e+00, 4.72839656e-01,\n",
       "       9.88858008e-01, 2.90647599e-01, 1.09708646e+00, 1.14404806e-01,\n",
       "       4.98035966e-01, 1.16547973e-01, 2.28454218e+00, 8.97462814e-01,\n",
       "       1.12511395e+00, 5.84460924e-01, 1.49345459e-01, 6.55313625e-01,\n",
       "       1.38680042e+00, 2.06442023e+00, 1.25714035e-01, 7.92025020e-02,\n",
       "       2.57586072e-01, 1.00466229e+00, 3.78840589e+00, 6.83258062e-01,\n",
       "       3.68499737e-01, 6.87176518e-01, 1.47196710e+00, 4.84779905e-01,\n",
       "       2.73897273e+00, 5.20880013e-01, 1.54652070e+00, 1.84787905e-01,\n",
       "       3.50098612e-01, 2.17459228e+00, 7.20524588e-01, 4.15889127e-02,\n",
       "       1.75286867e+00, 1.08319983e+00, 5.60727136e-01, 3.58471870e-01,\n",
       "       4.93801558e+00, 9.57731086e-01, 1.07604901e+00, 4.79976827e-01,\n",
       "       7.36628095e-01, 7.03179456e-01, 6.85336875e-01, 1.45963121e-01,\n",
       "       1.31863064e+00, 4.89441614e-02, 3.60818784e-01, 6.39690851e-02,\n",
       "       1.14294804e+00, 5.44221185e-01, 4.02609372e-01, 1.29541011e+00,\n",
       "       3.91915251e-01, 9.86911995e-01, 4.39102140e-01, 2.02935837e+00,\n",
       "       1.28796642e+00, 3.39280478e-01, 2.11355701e+00, 1.95743267e-01,\n",
       "       9.21269030e-01, 8.75890200e-01, 2.04719022e-01, 1.99355903e+00])"
      ]
     },
     "execution_count": 144,
     "metadata": {},
     "output_type": "execute_result"
    }
   ],
   "source": [
    "exponential_dist(1,1000)"
   ]
  },
  {
   "cell_type": "code",
   "execution_count": 145,
   "metadata": {},
   "outputs": [
    {
     "data": {
      "text/plain": [
       "array([6.66664598e+01, 1.82307403e+01, 3.39824506e+01, 1.25925657e+02,\n",
       "       8.04782758e-01, 7.13183795e+01, 1.05601176e+02, 1.90399467e+01,\n",
       "       2.22918049e+02, 1.80726745e+02, 1.99227939e+01, 1.16293210e+02,\n",
       "       9.99939333e+01, 1.19004127e+02, 3.26001018e+01, 7.53812446e+01,\n",
       "       2.50641559e+02, 4.34916335e+01, 1.35383907e+01, 1.06593189e+02,\n",
       "       2.39586160e+02, 1.54444397e+00, 1.03082268e+02, 1.78256754e+01,\n",
       "       1.07165841e+02, 9.31152662e+01, 7.29203026e+01, 8.95192306e+01,\n",
       "       1.60053838e+00, 2.28006159e+01, 1.05199559e+02, 2.01986937e+01,\n",
       "       8.70823975e+01, 1.50171045e+01, 4.57129133e+01, 9.12216335e+01,\n",
       "       1.25284544e+02, 3.84366607e+02, 3.98369730e+02, 2.38764580e+02,\n",
       "       1.36437014e+02, 1.91070362e+01, 7.68419082e+01, 7.31854219e+01,\n",
       "       7.63553410e+01, 1.90323192e+02, 1.45607325e+01, 1.61571946e+02,\n",
       "       6.34198828e+01, 9.35608075e+01, 1.25853526e+02, 2.13818683e+01,\n",
       "       5.06082400e+01, 7.15184884e+01, 1.50410541e+02, 2.46041770e+01,\n",
       "       7.86365963e-01, 5.65690824e+01, 1.72544127e+01, 5.98657496e+01,\n",
       "       2.77423508e+01, 1.16471746e+01, 1.02997593e+02, 3.19608511e+02,\n",
       "       4.92339592e+01, 1.96834339e+02, 2.78351003e+01, 3.32527282e+01,\n",
       "       1.21174862e+02, 3.67297719e+01, 2.09495730e+02, 1.72733892e+02,\n",
       "       1.11205113e+00, 5.61554005e+01, 3.39188541e+02, 1.93590680e+01,\n",
       "       7.28283897e+01, 2.46831308e+01, 2.05484547e+02, 1.14354940e+02,\n",
       "       3.92824375e+02, 1.53825282e+01, 7.08210901e+01, 3.75543844e+02,\n",
       "       2.08284858e+02, 2.86812559e+01, 2.50781841e+02, 9.00758192e+01,\n",
       "       1.07994579e+02, 2.74392857e+02, 2.83412902e+02, 9.75403143e+01,\n",
       "       7.71036196e+01, 7.79921856e+00, 8.91301967e+01, 2.52060363e+01,\n",
       "       9.11894826e+01, 7.37178872e+01, 3.93993751e+00, 1.01137242e+02,\n",
       "       4.41571081e+01, 1.30586076e+01, 3.63412368e+01, 8.29844601e+01,\n",
       "       3.13693455e+01, 5.76599888e+01, 6.23410931e+01, 1.30458893e+01,\n",
       "       4.89240895e+01, 2.94338005e+01, 6.87626537e+01, 4.36539743e+01,\n",
       "       6.23192003e+01, 1.14700144e+02, 2.27283745e+01, 3.66149920e+01,\n",
       "       2.06244892e+02, 2.44262693e+02, 6.63681667e+01, 4.05937037e+01,\n",
       "       2.85284503e+02, 2.69602906e+02, 3.46917624e+02, 1.41125980e+02,\n",
       "       3.68534822e+01, 1.83630393e+01, 5.98480917e+00, 3.25805050e+01,\n",
       "       2.14216630e+01, 7.71052333e+01, 4.19157318e+02, 3.79894177e+01,\n",
       "       3.31017131e+01, 1.28992667e+02, 1.33758942e+02, 6.53864289e+01,\n",
       "       7.56071747e+01, 1.00605345e+02, 2.96406027e+02, 6.05900883e+01,\n",
       "       1.46235982e+01, 6.21900339e+01, 4.53924852e+01, 1.02848192e+02,\n",
       "       1.87180804e+01, 2.78892536e+01, 4.09121687e+01, 5.54470574e+01,\n",
       "       7.73023037e+01, 6.63754942e+00, 1.76652271e+01, 2.89172540e+02,\n",
       "       3.34204044e+01, 1.03300347e+02, 1.73507296e+02, 2.56704291e+02,\n",
       "       7.30605483e+01, 9.16338696e+01, 1.52132398e+02, 9.12348659e+01,\n",
       "       7.97492298e+01, 1.98735734e+01, 1.67492323e+02, 9.17755086e+00,\n",
       "       1.93944539e+01, 4.90281799e+01, 1.50279348e+01, 3.07874430e+01,\n",
       "       4.20967789e+01, 4.50395730e+01, 6.33662988e+01, 1.36985093e+02,\n",
       "       1.11865519e+02, 5.90391157e+01, 9.94524762e+01, 3.12405458e+01,\n",
       "       2.83549154e+01, 1.89165235e+02, 4.52628724e+01, 5.71905464e+01,\n",
       "       1.66477477e+02, 3.69180040e+02, 8.44513273e+01, 2.18040221e+02,\n",
       "       9.14383254e+01, 2.01655508e+02, 4.09989920e+01, 4.37159816e+01,\n",
       "       2.50213471e+02, 2.03345335e+01, 3.26666165e+01, 1.95628918e+01,\n",
       "       1.02004238e+02, 5.28794624e+01, 2.91300420e+01, 3.00908708e+02,\n",
       "       1.60434674e+02, 6.44731112e+01, 3.68924162e+02, 5.25143300e+00,\n",
       "       1.25995983e+02, 1.86730167e+01, 3.47317789e+02, 9.61566133e+01,\n",
       "       1.45822267e+02, 1.93330111e+02, 5.14090624e+01, 1.71247491e+02,\n",
       "       1.02164068e+02, 2.49358338e+02, 4.50584534e+00, 3.10503570e+02,\n",
       "       1.64024407e+02, 1.76365311e+00, 1.40102658e+02, 1.16512697e+02,\n",
       "       8.71829860e+01, 6.84181371e+01, 2.49745752e+02, 2.52715306e+01,\n",
       "       1.22818279e+01, 2.36710442e+02, 1.60727544e+02, 5.13142949e+02,\n",
       "       6.18937391e+01, 3.39929428e+01, 4.49461192e+01, 2.45419909e+01,\n",
       "       6.31961083e+01, 7.92921673e+00, 2.18278278e+02, 1.94804316e+00,\n",
       "       2.33729010e+02, 2.19602558e+02, 2.85147099e+01, 1.34251074e+02,\n",
       "       2.06514438e+01, 9.33912591e+01, 4.09790446e+02, 2.35587208e+01,\n",
       "       6.15374893e+01, 1.55285082e+02, 6.52726563e+01, 2.38584538e+01,\n",
       "       2.36585725e+01, 2.75983037e+02, 1.28302271e+02, 3.52116006e+02,\n",
       "       4.13515099e+02, 3.33464125e+02, 6.09672144e+01, 1.21097913e+02,\n",
       "       2.03267730e+00, 7.48811450e+01, 9.17255100e+01, 2.10881216e+00,\n",
       "       3.21708756e+01, 4.14816393e+01, 7.11782670e+02, 3.81186699e+01,\n",
       "       1.05824588e+02, 2.36808152e+02, 6.03488061e+01, 1.13427224e+02,\n",
       "       2.09060239e+01, 1.85108349e+00, 2.76285811e+01, 1.01495023e+02,\n",
       "       5.32046522e+01, 2.28261263e+02, 5.88384267e+00, 5.92708547e+01,\n",
       "       3.00570148e+02, 8.97475456e+00, 3.35844332e+00, 1.43014702e+02,\n",
       "       1.86112295e+01, 1.53482496e+01, 2.43652369e+02, 1.54232311e+02,\n",
       "       3.49631434e+01, 5.21495050e+01, 2.55544700e+01, 7.15399588e+00,\n",
       "       2.24405678e+02, 2.09725813e+02, 2.07846772e+02, 5.23243261e+01,\n",
       "       2.18837157e+01, 4.05426381e+01, 2.99656714e+02, 8.47060152e+00,\n",
       "       1.23590642e+02, 2.10814072e+02, 1.63921526e+02, 3.13223981e+02,\n",
       "       6.48860626e+01, 1.14022999e+02, 3.81297778e+02, 5.56370996e+02,\n",
       "       4.95543648e+01, 1.01613466e+02, 2.73583662e+01, 5.17758871e+01,\n",
       "       1.17005864e+02, 1.77217094e+02, 3.08685864e+01, 2.08155421e+01,\n",
       "       1.60700460e+02, 1.46097287e+01, 9.23774047e+01, 1.21012482e+01,\n",
       "       1.06690567e+02, 1.83317407e+02, 1.92227887e+01, 1.20320475e+02,\n",
       "       1.64214718e+02, 5.65596925e+01, 3.92241594e+01, 3.60124061e+02,\n",
       "       2.87264707e+01, 1.85018680e+02, 2.62573607e+01, 5.14697987e+01,\n",
       "       7.06666062e+00, 1.06752017e+02, 2.02234020e+02, 7.25419677e+01,\n",
       "       6.11249986e+01, 9.99771426e+01, 2.72628109e+01, 4.81140908e+01,\n",
       "       6.26180072e+01, 8.54996704e+01, 6.30772504e+01, 1.14826712e+02,\n",
       "       3.48963745e+00, 1.19953720e+02, 1.40533544e+02, 1.98328239e+01,\n",
       "       3.54636202e+01, 5.95823040e+01, 8.64419434e+01, 1.05735795e+02,\n",
       "       8.12566544e+01, 2.73381794e+02, 3.71911720e+02, 3.56222060e+00,\n",
       "       2.04773562e+01, 1.15882488e+02, 2.96044548e+01, 4.65929823e+00,\n",
       "       2.14947233e+02, 8.39153351e+01, 2.57215130e+02, 1.15695391e+02,\n",
       "       2.78810492e+01, 2.21307011e+02, 1.28437272e+02, 1.98624548e+02,\n",
       "       2.29570962e+02, 6.40665658e+01, 2.84575345e+01, 2.07934966e+02,\n",
       "       6.69602690e+01, 5.77420307e+02, 6.33533249e+01, 2.20714999e+02,\n",
       "       2.62034678e+01, 2.07326094e+02, 2.38341898e+01, 2.26525650e+02,\n",
       "       4.70303263e+01, 1.38689559e+02, 3.73544026e+02, 2.13798692e+02,\n",
       "       1.16082650e+02, 2.96272099e+01, 3.63321857e+01, 3.04438562e+01,\n",
       "       1.89868560e+02, 2.49349680e+01, 1.24040915e+02, 5.29548087e+01,\n",
       "       4.17654304e+01, 9.03058220e+01, 4.42536411e+00, 3.03567608e+02,\n",
       "       7.40691340e+01, 1.74904133e+00, 6.49037439e+01, 2.25913352e+02,\n",
       "       9.74915123e+01, 3.70630550e+01, 1.31109759e+01, 4.79238592e+01,\n",
       "       1.40206503e+02, 1.22740173e+02, 1.92060209e+02, 5.78015434e+01,\n",
       "       1.50913509e+02, 2.42963708e+02, 1.07668832e+02, 4.91199004e+01,\n",
       "       2.37885326e+00, 1.67068700e+02, 1.78028099e+02, 2.94257349e+01,\n",
       "       2.37532104e+01, 1.07152950e+01, 5.51790107e+01, 7.83546793e+01,\n",
       "       3.91711997e+02, 1.36296437e+02, 1.82575734e+01, 1.17510746e+01,\n",
       "       2.52410200e+02, 3.12905728e+01, 8.98721293e+01, 2.59902204e+01,\n",
       "       4.86209499e+01, 6.26271094e+01, 3.46725053e+02, 1.45665374e+01,\n",
       "       6.04800275e+00, 5.23750168e+01, 6.17953983e+01, 2.38411873e+02,\n",
       "       6.40781565e+01, 3.64201020e+00, 2.54456969e+01, 4.53004340e+01,\n",
       "       2.09850104e+01, 7.36540675e+01, 6.96658077e+01, 5.04669585e+01,\n",
       "       5.57621152e+01, 1.07355555e+02, 5.14237155e+01, 1.81833842e+02,\n",
       "       1.19909085e+02, 7.11639696e+01, 1.56524612e+02, 4.74302483e+01,\n",
       "       4.65421137e+01, 7.03556885e+01, 1.90581173e+02, 2.84095261e+02,\n",
       "       2.32703063e+01, 2.75294973e+02, 7.28615850e+01, 5.44561912e+01,\n",
       "       1.63225360e+02, 8.57201751e+01, 3.28212580e+01, 2.57601815e+02,\n",
       "       1.34496982e+01, 1.56429790e+02, 4.46921758e+01, 2.29999237e+01,\n",
       "       6.29984201e+01, 6.47296690e+01, 1.69038320e+01, 1.98500374e+02,\n",
       "       1.45845991e+01, 3.54263494e+02, 8.47339032e+01, 2.26893162e+01,\n",
       "       1.39903770e+02, 3.06348460e+01, 2.35028095e+02, 5.51780195e+01,\n",
       "       8.68961663e+00, 6.67620558e+00, 1.03095301e+02, 1.51451365e+02,\n",
       "       1.13937942e+02, 3.29364484e+00, 2.68056721e+01, 1.21540137e+01,\n",
       "       7.91797641e+00, 2.30454009e+01, 1.07935316e+00, 1.22074683e+02,\n",
       "       6.86124942e+01, 2.13235927e+01, 2.06045747e+01, 7.68043213e+01,\n",
       "       1.66798090e+02, 6.52737258e+01, 2.24083358e+02, 7.34798530e+01,\n",
       "       4.66862242e+01, 6.68961980e+01, 5.29214706e+00, 1.78241966e+01,\n",
       "       4.05456753e+01, 5.38289730e+00, 1.26488252e+01, 8.36054778e+01,\n",
       "       8.93097440e+01, 1.96717467e+01, 1.31108261e+02, 1.38417778e+01,\n",
       "       6.98293413e+01, 7.88494066e+01, 8.76615369e+01, 5.13961945e+00,\n",
       "       1.33146127e+02, 1.26702258e+02, 4.44681527e+01, 2.91009953e+01,\n",
       "       1.49688156e+01, 9.98185362e+01, 4.43198748e+01, 3.65206119e+01,\n",
       "       4.13143716e+01, 7.96492382e+01, 1.00557316e+02, 1.78689712e+02,\n",
       "       8.18947311e+00, 6.87670109e+00, 3.22643622e+01, 1.32674708e+01,\n",
       "       6.53208434e+01, 1.15994263e+02, 2.88926064e+01, 2.04714059e+00,\n",
       "       5.84777359e+01, 1.51831222e+02, 9.59653198e-01, 1.16042905e+02,\n",
       "       7.23842759e+01, 1.45520755e+02, 6.53475445e+01, 2.68706030e+02,\n",
       "       3.81658731e+01, 2.68846052e+02, 7.23751340e+01, 1.91277571e+01,\n",
       "       1.42377553e+01, 1.33949852e+02, 1.22352123e+02, 3.66909096e+01,\n",
       "       3.97607060e+01, 1.38127072e+01, 1.09347318e+02, 6.19036737e+01,\n",
       "       1.91048092e+01, 3.95669108e+01, 1.17743008e+02, 2.70534146e+02,\n",
       "       1.41543736e+02, 1.68893607e+00, 3.21720793e+01, 1.22825183e+02,\n",
       "       4.46632826e+01, 2.44162114e+02, 6.84744841e+01, 1.94033104e+01,\n",
       "       2.20527895e+02, 5.47399453e+01, 1.60853428e+00, 5.02577304e-01,\n",
       "       1.09318745e+01, 6.65075872e+01, 1.58054820e+02, 6.07124135e+01,\n",
       "       2.10623114e+02, 6.28435503e+01, 7.61734522e+01, 1.35583568e+02,\n",
       "       1.23326865e+02, 1.17085652e+01, 1.54354598e+02, 8.03454282e+01,\n",
       "       8.22211148e+01, 2.70885526e+01, 3.62389717e+01, 3.30740177e+01,\n",
       "       2.19717146e+01, 3.51951301e+01, 5.76468483e+01, 2.05825314e+02,\n",
       "       1.91181925e+01, 1.32779468e+02, 1.67932782e+01, 1.52083211e+02,\n",
       "       2.04994856e+02, 4.27333202e+01, 8.41524905e+01, 8.23222257e+01,\n",
       "       2.82002983e+01, 3.52828430e+00, 5.29736136e+01, 5.25718308e+00,\n",
       "       2.55937613e+01, 4.72860470e+01, 9.50558564e+01, 2.85437912e+01,\n",
       "       1.24140416e+02, 1.04113636e+01, 2.52848090e+02, 5.03889548e+01,\n",
       "       1.45517328e+02, 1.20166053e+02, 5.78740337e+01, 1.47673276e+02,\n",
       "       1.75151296e+02, 1.29161103e+02, 3.96173107e+01, 4.76628079e+01,\n",
       "       3.87229334e+01, 6.37823126e+01, 1.50200925e+02, 1.08169216e+02,\n",
       "       4.17423815e+01, 6.64601663e+01, 4.82317359e+01, 4.19655669e+01,\n",
       "       1.15412470e+02, 1.68632508e+02, 8.23784423e+01, 1.93523754e+01,\n",
       "       2.61066566e+01, 1.72538907e+01, 1.44398839e+02, 2.76958229e+02,\n",
       "       1.33622822e+02, 7.78550543e+01, 3.12286228e+01, 1.57563330e+02,\n",
       "       1.09459611e+02, 2.03707621e+02, 3.01700202e+02, 2.42843351e+02,\n",
       "       8.83743850e+00, 1.32319558e+02, 3.93610069e+01, 2.34440264e+01,\n",
       "       8.91599690e+01, 7.96354658e+01, 7.41568792e+00, 7.15491178e+01,\n",
       "       5.91913660e+00, 3.52541359e+01, 1.07121743e+01, 1.16353844e+02,\n",
       "       3.92817622e+01, 2.75740970e+02, 5.12914222e+01, 3.69697780e+00,\n",
       "       2.02669063e+02, 2.03885436e+02, 8.06278924e+01, 4.35163862e+01,\n",
       "       4.76346677e+01, 1.90234913e+02, 2.04971629e+02, 5.02810814e+01,\n",
       "       4.60868303e+01, 6.77466340e+01, 2.94594532e+00, 6.80109447e+01,\n",
       "       3.00953510e+01, 5.95793254e+01, 3.63784294e+02, 6.31372313e+01,\n",
       "       3.38674353e+01, 3.05810998e+02, 5.73543074e+01, 9.80909803e+01,\n",
       "       1.31558723e+02, 3.79840672e+01, 5.21376295e+01, 7.43443176e+00,\n",
       "       7.57559399e+01, 2.84677033e+01, 1.00832216e+02, 1.25720616e+02,\n",
       "       5.27773828e+01, 3.10852693e+00, 1.52864753e+02, 1.64862416e+01,\n",
       "       4.02457601e+01, 2.09451286e+01, 9.57176916e+01, 1.84989891e+02,\n",
       "       3.33537708e+01, 3.35300257e+02, 8.19874639e+01, 2.87616508e+01,\n",
       "       1.43675067e+02, 4.26633266e+01, 4.81139409e+00, 4.42082404e+01,\n",
       "       1.01402590e+01, 3.38974555e+01, 6.62557579e+01, 1.78402771e+01,\n",
       "       7.52181452e+01, 2.09398022e+02, 2.42717923e+01, 5.42260480e+01,\n",
       "       1.98518241e+01, 6.67939146e+01, 8.98922106e+01, 5.80765546e+00,\n",
       "       4.49556003e+01, 3.08736071e+01, 1.38304793e+02, 1.25981337e+02,\n",
       "       4.62296675e+01, 8.08934446e+01, 1.61058671e+02, 2.42591036e+01,\n",
       "       1.46504676e+01, 1.67290166e+01, 2.26027320e+02, 4.47747274e+02,\n",
       "       6.84273667e+01, 1.93109294e+01, 6.15238141e+01, 1.06985952e+02,\n",
       "       3.09843000e+01, 8.97980828e+00, 2.91676141e+02, 9.97050273e+00,\n",
       "       1.54331933e+02, 9.95263452e+01, 6.39013062e+01, 3.18014520e+01,\n",
       "       1.24797959e+01, 5.67762342e+02, 1.18214579e+02, 1.07620453e+02,\n",
       "       2.57106135e+02, 4.83700369e+01, 1.34572689e+02, 7.16646790e+01,\n",
       "       2.81906946e+01, 2.18135349e+01, 2.27381588e+02, 6.34649061e+01,\n",
       "       1.05985757e+00, 2.27690516e+01, 9.57510219e+01, 2.20527765e+02,\n",
       "       5.89232931e+01, 2.84998272e+02, 9.71595215e+00, 1.94401561e+02,\n",
       "       3.48497651e+01, 4.18338403e+01, 3.39761491e+02, 4.87914688e+01,\n",
       "       8.12382183e+01, 1.00075514e+02, 2.17450608e+01, 1.11929099e+02,\n",
       "       5.91096729e+01, 1.46889645e+02, 1.59658389e+02, 9.93087708e+01,\n",
       "       1.60625754e+02, 4.22255557e+01, 3.54356617e+00, 1.31768673e+02,\n",
       "       2.11301136e+01, 8.52896538e+01, 1.04200915e+02, 8.33203862e+01,\n",
       "       6.28225676e+01, 9.31896208e+01, 1.98757134e+02, 3.59472884e+01,\n",
       "       1.63659978e+02, 6.10864891e+01, 1.19670401e+02, 6.94847672e+01,\n",
       "       1.80862855e+01, 3.92634533e+01, 1.28421945e+02, 1.44327465e+02,\n",
       "       2.82026940e+02, 7.33087174e+00, 2.03454716e+02, 1.56553202e+00,\n",
       "       2.02148976e+01, 2.81366567e+02, 2.03582088e+02, 1.30785693e+02,\n",
       "       1.32549611e+02, 4.10149087e+01, 1.83376289e+02, 1.04863230e+02,\n",
       "       1.59589916e+02, 1.63275416e+01, 3.36384801e+01, 2.63956218e+01,\n",
       "       1.52720400e+02, 1.29835062e+02, 2.46025575e+02, 6.97637980e+00,\n",
       "       4.37537964e+02, 8.16498635e+01, 6.11294248e+01, 5.71467367e+02,\n",
       "       2.73307935e+02, 3.49128041e+01, 2.39117396e+02, 5.15067438e+01,\n",
       "       1.29302652e+02, 7.74864366e+00, 1.14127957e+01, 1.27657346e+02,\n",
       "       2.61796085e+01, 3.66281963e+00, 1.27957395e+02, 1.00433972e+02,\n",
       "       1.06055730e+02, 2.52293198e+02, 1.97460492e+01, 8.83414561e+01,\n",
       "       9.03065788e+01, 1.12600584e+02, 6.89102223e-01, 1.23307287e+02,\n",
       "       1.46199547e+02, 1.72995376e+02, 3.21763708e+02, 1.10696615e+02,\n",
       "       3.78015478e+02, 2.47717197e+01, 2.32624542e+02, 1.43570263e+02,\n",
       "       3.75346310e+01, 5.93691112e+00, 1.35979359e+02, 1.23073202e+01,\n",
       "       7.79271590e-01, 5.15737375e+01, 4.86500698e+01, 6.64594367e+01,\n",
       "       2.74685176e+02, 3.02450935e+01, 5.88540094e+01, 5.90494887e+01,\n",
       "       4.15091281e+01, 1.88287680e+02, 1.13231769e+02, 4.50399719e+02,\n",
       "       5.40955811e+01, 2.37193900e+02, 1.52137451e+02, 1.62610744e+02,\n",
       "       2.36279249e+01, 4.46938933e+01, 8.51568887e+01, 6.23038907e+01,\n",
       "       1.60276683e+02, 7.74263550e+01, 2.24863589e+01, 5.74058133e+01,\n",
       "       2.08412964e+01, 1.46915087e+01, 6.19547640e+01, 1.09723418e+02,\n",
       "       3.52591553e+01, 2.78814343e+01, 7.72854297e+00, 3.93862478e+02,\n",
       "       2.22186927e+01, 8.30401560e+01, 1.94153131e+02, 3.57744625e+01,\n",
       "       6.88564629e+01, 1.66225907e+01, 7.96226905e-02, 9.84569679e+01,\n",
       "       3.99619864e+02, 6.52233633e+01, 8.55219534e+01, 3.23012693e+02,\n",
       "       8.35926527e+01, 1.09693753e+01, 2.50697373e+01, 2.56603470e+01,\n",
       "       1.60725118e+02, 6.31177057e+01, 1.40123810e+02, 8.46808750e+01,\n",
       "       1.71833036e+02, 1.62390042e+02, 5.34347032e+01, 1.32846058e+02,\n",
       "       9.94917030e+01, 5.75584074e+01, 4.12438281e+01, 6.87144825e+01,\n",
       "       1.57134090e+01, 5.63199306e+02, 2.06445627e+01, 1.59965494e+02,\n",
       "       9.38362602e+01, 3.13628251e+02, 6.02117765e+01, 9.59284908e+01,\n",
       "       6.25451485e+01, 1.65237690e+02, 6.68100664e+01, 6.88020709e+01,\n",
       "       1.76107594e+02, 8.23448368e+01, 4.06895331e+01, 1.52457923e+02,\n",
       "       2.64115794e+02, 1.13019316e+02, 7.61932703e+01, 3.46022222e+02,\n",
       "       4.59123643e+01, 1.92619337e+02, 3.14982733e+00, 1.26996111e+02,\n",
       "       2.30154476e+02, 2.48476646e+01, 3.32413147e+01, 2.01548278e+01,\n",
       "       3.40581239e+01, 7.58684795e+01, 6.27056978e+01, 1.13682839e+02,\n",
       "       1.50376282e+02, 2.36445692e+01, 1.11833962e+02, 5.63377150e+01,\n",
       "       1.77960971e+01, 3.94402302e+01, 3.83252723e+01, 4.81511506e+01,\n",
       "       2.26791783e+01, 1.72758561e+02, 1.06130117e+00, 5.13080773e+01,\n",
       "       4.81811739e+01, 3.43065799e+02, 1.32019109e+02, 4.11699700e+01,\n",
       "       5.65076816e+01, 1.02757887e+02, 8.92346333e+01, 6.45103323e+01,\n",
       "       4.79484984e+01, 8.33244506e+01, 9.99510038e+01, 1.53038828e+02,\n",
       "       7.79321139e+01, 2.24993579e+02, 1.79909053e+02, 1.36979575e+00,\n",
       "       1.27732293e+02, 1.16131148e+02, 1.51926854e+02, 1.08140150e+02,\n",
       "       1.80941354e+02, 1.18556043e+02, 2.23675883e+01, 1.16927337e+02,\n",
       "       9.91243482e+00, 3.20053404e+01, 4.73854545e+01, 6.51432283e+00,\n",
       "       1.55282907e+01, 2.00631198e+02, 7.66932044e+01, 5.96438116e+01,\n",
       "       1.10172242e+02, 6.65747584e+01, 6.10323379e+01, 1.38987732e+02,\n",
       "       8.81496513e+01, 9.77756012e+00, 8.63892320e-01, 8.89723122e+00,\n",
       "       5.36201836e+02, 5.93821281e+00, 3.30270381e+02, 9.15712494e+00,\n",
       "       1.70464537e+01, 4.22365366e+00, 8.97998052e+01, 2.57318582e+01,\n",
       "       3.41945536e+01, 1.06883251e+02, 2.49510912e+01, 4.27200014e+02,\n",
       "       2.06996574e+02, 2.87169722e+02, 1.33522177e+01, 1.02328838e+02])"
      ]
     },
     "execution_count": 145,
     "metadata": {},
     "output_type": "execute_result"
    }
   ],
   "source": [
    "exponential_dist(100,1000)"
   ]
  },
  {
   "cell_type": "code",
   "execution_count": 148,
   "metadata": {},
   "outputs": [
    {
     "data": {
      "image/png": "[encoded data removed]",
      "text/plain": [
       "<Figure size 432x288 with 2 Axes>"
      ]
     },
     "metadata": {
      "needs_background": "light"
     },
     "output_type": "display_data"
    }
   ],
   "source": [
    "fig, axes = plt.subplots(1, 2, sharey = True)\n",
    "\n",
    "sns.histplot(exponential_dist(1,1000), ax = axes[0], bins = 100)\n",
    "\n",
    "sns.histplot(exponential_dist(100,1000), ax = axes[1], bins = 100)\n",
    "\n",
    "plt.show()"
   ]
  },
  {
   "cell_type": "markdown",
   "metadata": {},
   "source": [
    "How are the two distributions different?"
   ]
  },
  {
   "cell_type": "code",
   "execution_count": 149,
   "metadata": {},
   "outputs": [],
   "source": [
    " # The x axis has a lot bigger range, because the mean is 100"
   ]
  },
  {
   "cell_type": "markdown",
   "metadata": {},
   "source": [
    "## Exponential Distribution of Real Data\n",
    "\n",
    "Suppose that the amount of time one spends in a bank is exponentially distributed with mean as 10 minutes (i.e. λ = 1/10). What is the probability that a customer will spend less than fifteen minutes in the bank? \n",
    "\n",
    "Write a code in python to solve this problem"
   ]
  },
  {
   "cell_type": "code",
   "execution_count": 157,
   "metadata": {},
   "outputs": [
    {
     "data": {
      "text/plain": [
       "0.7534030360583935"
      ]
     },
     "execution_count": 157,
     "metadata": {},
     "output_type": "execute_result"
    }
   ],
   "source": [
    "# your answer here\n",
    "# Hint: This is same as saying P(x<15)\n",
    "\n",
    "\n",
    "from scipy.stats import expon\n",
    "\n",
    "inv_lambda = 10\n",
    "\n",
    "expon_dist = expon(scale = inv_lambda) \n",
    "\n",
    "expon_dist.cdf(14)\n"
   ]
  },
  {
   "cell_type": "markdown",
   "metadata": {},
   "source": [
    "What is the probability that the customer will spend more than 15 minutes"
   ]
  },
  {
   "cell_type": "code",
   "execution_count": 159,
   "metadata": {},
   "outputs": [
    {
     "data": {
      "text/plain": [
       "0.22313016014842982"
      ]
     },
     "execution_count": 159,
     "metadata": {},
     "output_type": "execute_result"
    }
   ],
   "source": [
    "expon_dist.sf(15)"
   ]
  },
  {
   "cell_type": "code",
   "execution_count": null,
   "metadata": {},
   "outputs": [],
   "source": []
  }
 ],
 "metadata": {
  "kernelspec": {
   "display_name": "Python 3.9.12 ('julyironhack')",
   "language": "python",
   "name": "python3"
  },
  "language_info": {
   "codemirror_mode": {
    "name": "ipython",
    "version": 3
   },
   "file_extension": ".py",
   "mimetype": "text/x-python",
   "name": "python",
   "nbconvert_exporter": "python",
   "pygments_lexer": "ipython3",
   "version": "3.9.12"
  },
  "vscode": {
   "interpreter": {
    "hash": "d4f28bf35b1054d239a9ee1bfa6fb652dd82e0e5a8ae6f2857cd28eda2674f2d"
   }
  }
 },
 "nbformat": 4,
 "nbformat_minor": 2
}
